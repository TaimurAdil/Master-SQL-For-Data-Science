{
 "cells": [
  {
   "cell_type": "code",
   "execution_count": 1,
   "metadata": {},
   "outputs": [],
   "source": [
    "import psycopg2\n",
    "import config"
   ]
  },
  {
   "cell_type": "markdown",
   "metadata": {},
   "source": [
    "## Postgres SQL Connection"
   ]
  },
  {
   "cell_type": "code",
   "execution_count": 11,
   "metadata": {},
   "outputs": [],
   "source": [
    "conn = psycopg2.connect(user = config.DATABASE_CONFIG['user'],\n",
    "                        password = config.DATABASE_CONFIG['password'],\n",
    "                        host = config.DATABASE_CONFIG['host'],\n",
    "                        port = config.DATABASE_CONFIG['port'],\n",
    "                        database = config.DATABASE_CONFIG['dbname'])\n",
    "\n",
    "conn.set_session(autocommit=True)"
   ]
  },
  {
   "cell_type": "code",
   "execution_count": 3,
   "metadata": {},
   "outputs": [
    {
     "name": "stdout",
     "output_type": "stream",
     "text": [
      "<connection object at 0x0000020ADC3E3450; dsn: 'user=postgres password=xxx dbname=course_data host=127.0.0.1 port=5432', closed: 0>\n"
     ]
    }
   ],
   "source": [
    "print(conn)"
   ]
  },
  {
   "cell_type": "code",
   "execution_count": 13,
   "metadata": {},
   "outputs": [],
   "source": [
    "cur = conn.cursor()"
   ]
  },
  {
   "cell_type": "markdown",
   "metadata": {},
   "source": [
    "## Basic Queries"
   ]
  },
  {
   "cell_type": "code",
   "execution_count": 7,
   "metadata": {},
   "outputs": [
    {
     "data": {
      "text/plain": [
       "[(1, 'CS110'),\n",
       " (1, 'CS180'),\n",
       " (1, 'CS210'),\n",
       " (2, 'CS107'),\n",
       " (2, 'CS220'),\n",
       " (3, 'CS110'),\n",
       " (3, 'CS180'),\n",
       " (4, 'CS220'),\n",
       " (5, 'CS110'),\n",
       " (5, 'CS180'),\n",
       " (5, 'CS210'),\n",
       " (5, 'CS220'),\n",
       " (6, 'CS110'),\n",
       " (7, 'CS110'),\n",
       " (7, 'CS210')]"
      ]
     },
     "execution_count": 7,
     "metadata": {},
     "output_type": "execute_result"
    }
   ],
   "source": [
    "query = \"SELECT * FROM student_enrollment\"\n",
    "\n",
    "cur.execute(query)\n",
    "cur.fetchall()"
   ]
  },
  {
   "cell_type": "markdown",
   "metadata": {},
   "source": [
    "## Advance Queries"
   ]
  },
  {
   "cell_type": "markdown",
   "metadata": {},
   "source": [
    "Functions and Conditions"
   ]
  },
  {
   "cell_type": "code",
   "execution_count": 15,
   "metadata": {},
   "outputs": [
    {
     "data": {
      "text/plain": [
       "[('Chong works in the Science department',),\n",
       " ('Brown works in the Math department',),\n",
       " ('Jones works in the History department',),\n",
       " ('Wilson works in the Astronomy department',),\n",
       " ('Miller works in the Agriculture department',),\n",
       " ('Williams works in the Law department',)]"
      ]
     },
     "execution_count": 15,
     "metadata": {},
     "output_type": "execute_result"
    }
   ],
   "source": [
    "query = \"SELECT last_name || ' ' || 'works in the '|| department || ' department' FROM professors\"\n",
    "\n",
    "cur.execute(query)\n",
    "cur.fetchall()"
   ]
  },
  {
   "cell_type": "code",
   "execution_count": 16,
   "metadata": {},
   "outputs": [
    {
     "data": {
      "text/plain": [
       "[('It is false that professor Chong is highly paid',),\n",
       " ('It is true that professor Brown is highly paid',),\n",
       " ('It is false that professor Jones is highly paid',),\n",
       " ('It is true that professor Wilson is highly paid',),\n",
       " ('It is false that professor Miller is highly paid',),\n",
       " ('It is true that professor Williams is highly paid',)]"
      ]
     },
     "execution_count": 16,
     "metadata": {},
     "output_type": "execute_result"
    }
   ],
   "source": [
    "query = \"SELECT 'It is ' || (salary > 95000) || ' that professor ' || last_name || ' is highly paid' FROM professors\"\n",
    "\n",
    "cur.execute(query)\n",
    "cur.fetchall()"
   ]
  },
  {
   "cell_type": "code",
   "execution_count": 18,
   "metadata": {},
   "outputs": [
    {
     "data": {
      "text/plain": [
       "[(105000, 67000)]"
      ]
     },
     "execution_count": 18,
     "metadata": {},
     "output_type": "execute_result"
    }
   ],
   "source": [
    "query = \"SELECT MAX(salary) as higest_salary, MIN(salary) as lowest_salary FROM professors WHERE last_name != 'Wilson'\"\n",
    "\n",
    "cur.execute(query)\n",
    "cur.fetchall()"
   ]
  },
  {
   "cell_type": "code",
   "execution_count": 19,
   "metadata": {},
   "outputs": [
    {
     "data": {
      "text/plain": [
       "[(datetime.date(2001, 6, 5),)]"
      ]
     },
     "execution_count": 19,
     "metadata": {},
     "output_type": "execute_result"
    }
   ],
   "source": [
    "query = \"SELECT MIN(hire_date) FROM professors\"\n",
    "\n",
    "cur.execute(query)\n",
    "cur.fetchall()"
   ]
  },
  {
   "cell_type": "code",
   "execution_count": 17,
   "metadata": {},
   "outputs": [
    {
     "data": {
      "text/plain": [
       "[('Chong', 'SCI', 88000, datetime.date(2006, 4, 18)),\n",
       " ('Brown', 'MAT', 97000, datetime.date(2002, 8, 22)),\n",
       " ('Jones', 'HIS', 67000, datetime.date(2009, 11, 17)),\n",
       " ('Wilson', 'AST', 110000, datetime.date(2005, 1, 15)),\n",
       " ('Miller', 'AGR', 82000, datetime.date(2008, 5, 8)),\n",
       " ('Williams', 'LAW', 105000, datetime.date(2001, 6, 5))]"
      ]
     },
     "execution_count": 17,
     "metadata": {},
     "output_type": "execute_result"
    }
   ],
   "source": [
    "query = \"SELECT last_name, UPPER(SUBSTRING(department, 1, 3)) as department, salary, hire_date FROM professors\"\n",
    "\n",
    "cur.execute(query)\n",
    "cur.fetchall()"
   ]
  },
  {
   "cell_type": "code",
   "execution_count": 20,
   "metadata": {},
   "outputs": [
    {
     "data": {
      "text/plain": [
       "[('Texas',)]"
      ]
     },
     "execution_count": 20,
     "metadata": {},
     "output_type": "execute_result"
    }
   ],
   "source": [
    "query = \"SELECT state FROM fruit_imports GROUP BY state ORDER BY SUM(supply) desc LIMIT 1\"\n",
    "\n",
    "cur.execute(query)\n",
    "cur.fetchall()"
   ]
  },
  {
   "cell_type": "code",
   "execution_count": 21,
   "metadata": {},
   "outputs": [
    {
     "data": {
      "text/plain": [
       "[('Winter', Decimal('0.22')),\n",
       " ('Summer', Decimal('0.68')),\n",
       " ('All Year', Decimal('0.75')),\n",
       " ('Spring', Decimal('0.60')),\n",
       " ('Fall', Decimal('0.35'))]"
      ]
     },
     "execution_count": 21,
     "metadata": {},
     "output_type": "execute_result"
    }
   ],
   "source": [
    "query = \"SELECT season, MAX(cost_per_unit) highest_cost_per_unit FROM fruit_imports GROUP BY season\"\n",
    "\n",
    "cur.execute(query)\n",
    "cur.fetchall()"
   ]
  },
  {
   "cell_type": "code",
   "execution_count": 22,
   "metadata": {},
   "outputs": [
    {
     "data": {
      "text/plain": [
       "[('Texas',)]"
      ]
     },
     "execution_count": 22,
     "metadata": {},
     "output_type": "execute_result"
    }
   ],
   "source": [
    "query = \"SELECT state FROM fruit_imports GROUP BY state, name HAVING COUNT(name) > 1\"\n",
    "\n",
    "cur.execute(query)\n",
    "cur.fetchall()"
   ]
  },
  {
   "cell_type": "code",
   "execution_count": 23,
   "metadata": {},
   "outputs": [
    {
     "data": {
      "text/plain": [
       "[('Summer', 4), ('All Year', 3), ('Spring', 4)]"
      ]
     },
     "execution_count": 23,
     "metadata": {},
     "output_type": "execute_result"
    }
   ],
   "source": [
    "query = \"SELECT season, COUNT(name) FROM fruit_imports GROUP BY season HAVING count(name) = 3 OR count(name) = 4\"\n",
    "\n",
    "cur.execute(query)\n",
    "cur.fetchall()"
   ]
  },
  {
   "cell_type": "code",
   "execution_count": 24,
   "metadata": {},
   "outputs": [
    {
     "data": {
      "text/plain": [
       "[('Illinois', Decimal('25375.00'))]"
      ]
     },
     "execution_count": 24,
     "metadata": {},
     "output_type": "execute_result"
    }
   ],
   "source": [
    "query = \"SELECT state, SUM(supply * cost_per_unit) total_cost FROM fruit_imports GROUP BY state ORDER BY total_cost desc LIMIT 1\"\n",
    "\n",
    "cur.execute(query)\n",
    "cur.fetchall()"
   ]
  },
  {
   "cell_type": "code",
   "execution_count": 27,
   "metadata": {},
   "outputs": [
    {
     "data": {
      "text/plain": [
       "[('Michael',), ('Doug',), ('Samantha',), ('Pete',), ('Ralph',)]"
      ]
     },
     "execution_count": 27,
     "metadata": {},
     "output_type": "execute_result"
    }
   ],
   "source": [
    "query = \"SELECT student_name FROM students WHERE student_no IN (SELECT student_no FROM student_enrollment WHERE course_no IN ( SELECT course_no  FROM courses WHERE course_title IN ('Physics', 'US History')))\"\n",
    "\n",
    "cur.execute(query)\n",
    "cur.fetchall()"
   ]
  },
  {
   "cell_type": "code",
   "execution_count": 28,
   "metadata": {},
   "outputs": [
    {
     "data": {
      "text/plain": [
       "[(6, 'Arnold', 22)]"
      ]
     },
     "execution_count": 28,
     "metadata": {},
     "output_type": "execute_result"
    }
   ],
   "source": [
    "query = \"SELECT * FROM students WHERE age = (SELECT MAX(age) FROM students)\"\n",
    "\n",
    "cur.execute(query)\n",
    "cur.fetchall()"
   ]
  },
  {
   "cell_type": "code",
   "execution_count": 29,
   "metadata": {},
   "outputs": [
    {
     "data": {
      "text/plain": [
       "[('Ralph',)]"
      ]
     },
     "execution_count": 29,
     "metadata": {},
     "output_type": "execute_result"
    }
   ],
   "source": [
    "query = \"SELECT student_name FROM students WHERE student_no IN (SELECT student_no FROM (SELECT student_no, COUNT(course_no) course_cnt FROM STUDENT_ENROLLMENT GROUP BY student_no ORDER BY course_cnt desc LIMIT 1)a)\"\n",
    "\n",
    "cur.execute(query)\n",
    "cur.fetchall()"
   ]
  },
  {
   "cell_type": "markdown",
   "metadata": {},
   "source": [
    "Write a query that displays 3 columns. The query should display the fruit and it's total supply along with a category of either LOW, ENOUGH or FULL. Low category means that the total supply of the fruit is less than 20,000. The enough category means that the total supply is between 20,000 and 50,000. If the total supply is greater than 50,000 then that fruit falls in the full category."
   ]
  },
  {
   "cell_type": "code",
   "execution_count": 8,
   "metadata": {},
   "outputs": [
    {
     "data": {
      "text/plain": [
       "[('Cherry', 62150, 'FULL'),\n",
       " ('Orange', 35000, 'ENOUGH'),\n",
       " ('Coconut', 15200, 'LOW'),\n",
       " ('Lime', 40400, 'ENOUGH'),\n",
       " ('Cantaloupe', 8000, 'LOW'),\n",
       " ('Apricot', 69500, 'FULL'),\n",
       " ('Mango', 30650, 'ENOUGH'),\n",
       " ('Grape', 72500, 'FULL'),\n",
       " ('Pear', 67750, 'FULL'),\n",
       " ('Avocado', 27000, 'ENOUGH'),\n",
       " ('Apple', 32900, 'ENOUGH')]"
      ]
     },
     "execution_count": 8,
     "metadata": {},
     "output_type": "execute_result"
    }
   ],
   "source": [
    "query = \"SELECT name, total_supply,                                                     \\\n",
    "        CASE WHEN total_supply < 20000 THEN 'LOW'                                       \\\n",
    "            WHEN total_supply >= 20000 AND total_supply <= 50000 THEN 'ENOUGH'          \\\n",
    "            WHEN total_supply > 50000 THEN 'FULL'                                       \\\n",
    "        END as category                                                                 \\\n",
    "        FROM (                                                                          \\\n",
    "                SELECT name, sum(supply) total_supply                                   \\\n",
    "                FROM fruit_imports                                                      \\\n",
    "                GROUP BY name                                                           \\\n",
    "            ) a\"\n",
    "\n",
    "cur.execute(query)\n",
    "cur.fetchall()"
   ]
  },
  {
   "cell_type": "markdown",
   "metadata": {},
   "source": [
    "Taking into consideration the supply column and the cost_per_unit column, you should be able to tabulate the total cost to import fruits by each season. "
   ]
  },
  {
   "cell_type": "code",
   "execution_count": 14,
   "metadata": {},
   "outputs": [
    {
     "data": {
      "text/plain": [
       "[(Decimal('10072.50'),\n",
       "  Decimal('19623.00'),\n",
       "  Decimal('29930.00'),\n",
       "  Decimal('29035.00'),\n",
       "  Decimal('22688.00'))]"
      ]
     },
     "execution_count": 14,
     "metadata": {},
     "output_type": "execute_result"
    }
   ],
   "source": [
    "query = \"SELECT SUM(CASE WHEN season = 'Winter' THEN total_cost end) as Winter_total,   \\\n",
    "            SUM(CASE WHEN season = 'Summer' THEN total_cost end) as Summer_total,       \\\n",
    "            SUM(CASE WHEN season = 'Spring' THEN total_cost end) as Spring_total,       \\\n",
    "            SUM(CASE WHEN season = 'Fall' THEN total_cost end) as Spring_total,         \\\n",
    "            SUM(CASE WHEN season = 'All Year' THEN total_cost end) as Spring_total      \\\n",
    "        FROM (                                                                          \\\n",
    "        select season, sum(supply * cost_per_unit) total_cost                           \\\n",
    "        from fruit_imports                                                              \\\n",
    "        group by season) a\"\n",
    "\n",
    "cur.execute(query)\n",
    "cur.fetchall()"
   ]
  },
  {
   "cell_type": "code",
   "execution_count": 30,
   "metadata": {},
   "outputs": [
    {
     "data": {
      "text/plain": [
       "[('Arnold', 'CS110', 'Brown'),\n",
       " ('Doug', 'CS107', 'Williams'),\n",
       " ('Doug', 'CS220', 'Jones'),\n",
       " ('Michael', 'CS110', 'Brown'),\n",
       " ('Michael', 'CS180', 'Brown'),\n",
       " ('Michael', 'CS210', 'Jones'),\n",
       " ('Pete', 'CS220', 'Jones'),\n",
       " ('Ralph', 'CS110', 'Brown'),\n",
       " ('Ralph', 'CS180', 'Brown'),\n",
       " ('Ralph', 'CS210', 'Jones'),\n",
       " ('Ralph', 'CS220', 'Jones'),\n",
       " ('Samantha', 'CS110', 'Brown'),\n",
       " ('Samantha', 'CS180', 'Brown')]"
      ]
     },
     "execution_count": 30,
     "metadata": {},
     "output_type": "execute_result"
    }
   ],
   "source": [
    "query = \"SELECT student_name, course_no, min(last_name) FROM ( SELECT student_name, se.course_no, p.last_name FROM students s  \\\n",
    "        INNER JOIN student_enrollment se ON s.student_no = se.student_no \\\n",
    "        INNER JOIN teach t              \\\n",
    "        ON se.course_no = t.course_no INNER JOIN professors p         \\\n",
    "        ON t.last_name = p.last_name) a \\\n",
    "        GROUP BY student_name, course_no    \\\n",
    "        ORDER BY student_name, course_no;\"\n",
    "\n",
    "cur.execute(query)\n",
    "cur.fetchall()"
   ]
  },
  {
   "cell_type": "markdown",
   "metadata": {},
   "source": [
    "ROLLUP in SQL aggregation is used to perform multiple levels of analysis with a single query. ROLLUP performs aggregations across multiple dimensions at different levels within a single SQL query"
   ]
  },
  {
   "cell_type": "code",
   "execution_count": 35,
   "metadata": {},
   "outputs": [
    {
     "data": {
      "text/plain": [
       "[(None, None, None, 68000),\n",
       " ('Asia', 'Japan', 'Tokyo', 5000),\n",
       " ('North America', 'Canada', 'Montreal', 5000),\n",
       " ('Europe', 'France', 'Paris', 5000),\n",
       " ('Europe', 'UK', 'London', 6000),\n",
       " ('North America', 'Canada', 'Toronto', 10000),\n",
       " ('Asia', 'China', 'Shanghai', 3000),\n",
       " ('Asia', 'China', 'Hong Kong', 7000),\n",
       " ('Europe', 'UK', 'Manchester', 12000),\n",
       " ('North America', 'Canada', 'Vancouver', 15000),\n",
       " ('Asia', 'Japan', None, 5000),\n",
       " ('Asia', 'China', None, 10000),\n",
       " ('Europe', 'UK', None, 18000),\n",
       " ('Europe', 'France', None, 5000),\n",
       " ('North America', 'Canada', None, 30000),\n",
       " ('Asia', None, None, 15000),\n",
       " ('North America', None, None, 30000),\n",
       " ('Europe', None, None, 23000)]"
      ]
     },
     "execution_count": 35,
     "metadata": {},
     "output_type": "execute_result"
    }
   ],
   "source": [
    "query = \"SELECT continent, country, city, sum(units_sold) FROM sales \\\n",
    "        GROUP BY ROLLUP(continent, country, city)\"\n",
    "\n",
    "cur.execute(query)\n",
    "cur.fetchall()"
   ]
  },
  {
   "cell_type": "markdown",
   "metadata": {},
   "source": [
    "SQL CUBE is a data structure, more or less like a matrix or a two-dimensional array that makes it possible to aggregate values and summary reports on multiple axes and provides a more detailed analysis by performing grouping of data along with more than one column"
   ]
  },
  {
   "cell_type": "code",
   "execution_count": null,
   "metadata": {},
   "outputs": [],
   "source": []
  }
 ],
 "metadata": {
  "kernelspec": {
   "display_name": "Python 3.10.8 64-bit",
   "language": "python",
   "name": "python3"
  },
  "language_info": {
   "codemirror_mode": {
    "name": "ipython",
    "version": 3
   },
   "file_extension": ".py",
   "mimetype": "text/x-python",
   "name": "python",
   "nbconvert_exporter": "python",
   "pygments_lexer": "ipython3",
   "version": "3.10.8"
  },
  "orig_nbformat": 4,
  "vscode": {
   "interpreter": {
    "hash": "25ddc7982181728f1377eb765b3c800e60ec06eb808f1867340d917852a518a2"
   }
  }
 },
 "nbformat": 4,
 "nbformat_minor": 2
}
